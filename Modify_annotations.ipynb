{
 "cells": [
  {
   "cell_type": "code",
   "execution_count": 1,
   "metadata": {},
   "outputs": [],
   "source": [
    "%matplotlib inline\n",
    "import json\n",
    "import cv2\n",
    "import numpy as np\n",
    "import os\n",
    "from matplotlib import pyplot as plt\n",
    "from shutil import copyfile"
   ]
  },
  {
   "cell_type": "code",
   "execution_count": 2,
   "metadata": {},
   "outputs": [],
   "source": [
    "def scale_annotations(path, copypath):\n",
    "    # make a copy of the annotations file\n",
    "    # copyfile(\"insert path to keypoint annotations\", \"insert the same file path just with a _copy appended\")\n",
    "    copyfile(path, copypath)\n",
    "\n",
    "    # now we will modify the annotations in the copied file\n",
    "    f = open(copypath, 'r')\n",
    "    data_keypoints = json.load(f)\n",
    "    f.close()\n",
    "\n",
    "    for data in data_keypoints['images']:\n",
    "        data['height'] //= 5\n",
    "        data['width'] //= 5\n",
    "\n",
    "    for data in data_keypoints['annotations']:\n",
    "        kpts = np.array(data['keypoints'])\n",
    "        kpts = np.reshape(kpts, (17,3))\n",
    "        kpts[:, 0] //= 5\n",
    "        kpts[:, 1] //= 5\n",
    "        kpts[:, 2] //= 1\n",
    "        data['keypoints'] = kpts.reshape((51,)).tolist()\n",
    "        data['bbox'] = [coordinate//5 for coordinate in data['bbox']]\n",
    "        data['area'] //= 25\n",
    "\n",
    "\n",
    "\n",
    "    f = open(copypath, \"w\")\n",
    "    json.dump(data_keypoints, f)\n",
    "    f.close()"
   ]
  }
 ],
 "metadata": {
  "kernelspec": {
   "display_name": "Python 3",
   "language": "python",
   "name": "python3"
  },
  "language_info": {
   "codemirror_mode": {
    "name": "ipython",
    "version": 3
   },
   "file_extension": ".py",
   "mimetype": "text/x-python",
   "name": "python",
   "nbconvert_exporter": "python",
   "pygments_lexer": "ipython3",
   "version": "3.7.3"
  }
 },
 "nbformat": 4,
 "nbformat_minor": 2
}
