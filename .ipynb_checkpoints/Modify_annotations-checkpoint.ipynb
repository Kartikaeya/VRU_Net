{
 "cells": [
  {
   "cell_type": "code",
   "execution_count": 26,
   "metadata": {},
   "outputs": [],
   "source": [
    "%matplotlib inline\n",
    "import json\n",
    "import cv2\n",
    "import numpy as np\n",
    "import os\n",
    "from matplotlib import pyplot as plt\n",
    "from shutil import copyfile"
   ]
  },
  {
   "cell_type": "code",
   "execution_count": null,
   "metadata": {},
   "outputs": [],
   "source": [
    "def scale_annotations(path):\n",
    "    "
   ]
  },
  {
   "cell_type": "code",
   "execution_count": 27,
   "metadata": {},
   "outputs": [
    {
     "data": {
      "text/plain": [
       "'Livewire/annotations/vru_keypoints_val_copy.json'"
      ]
     },
     "execution_count": 27,
     "metadata": {},
     "output_type": "execute_result"
    }
   ],
   "source": [
    "# make a copy of the annotations file\n",
    "# copyfile(\"insert path to keypoint annotations\", \"insert the same file path just with a _copy appended\")\n",
    "copyfile('Livewire/annotations/vru_keypoints_val.json', 'Livewire/annotations/vru_keypoints_val_copy.json')"
   ]
  },
  {
   "cell_type": "code",
   "execution_count": 28,
   "metadata": {},
   "outputs": [],
   "source": [
    "# now we will modify the annotations in the copied file\n",
    "f = open('Livewire/annotations/vru_keypoints_val_copy.json', 'r')\n",
    "data_keypoints = json.load(f)\n",
    "f.close()"
   ]
  },
  {
   "cell_type": "code",
   "execution_count": null,
   "metadata": {},
   "outputs": [],
   "source": [
    "f = open('Livewire/annotations/vru_keypoints_val_copy.json', 'r')"
   ]
  },
  {
   "cell_type": "code",
   "execution_count": 29,
   "metadata": {},
   "outputs": [
    {
     "name": "stdout",
     "output_type": "stream",
     "text": [
      "{'file_name': '000000026035.jpg', 'height': 432, 'width': 768, 'id': 26035}\n",
      "{'file_name': '000000026020.jpg', 'height': 432, 'width': 768, 'id': 26020}\n",
      "{'file_name': '000000026015.jpg', 'height': 432, 'width': 768, 'id': 26015}\n",
      "{'file_name': '000000026031.jpg', 'height': 432, 'width': 819, 'id': 26031}\n",
      "{'file_name': '000000026024.jpg', 'height': 432, 'width': 768, 'id': 26024}\n"
     ]
    }
   ],
   "source": [
    "for data in data_keypoints['images']:\n",
    "    data['height'] //= 5\n",
    "    data['width'] //= 5\n",
    "    print(data)    "
   ]
  },
  {
   "cell_type": "code",
   "execution_count": 30,
   "metadata": {},
   "outputs": [
    {
     "name": "stdout",
     "output_type": "stream",
     "text": [
      "{'image_name': '000000026035.jpg', 'image_id': 26035, 'segmentation': [], 'num_keypoints': 17, 'iscrowd': 0, 'keypoints': [1397.4878934596736, 600.0704244485592, 1, 1377.9005115177097, 560.6729292398968, 1, 1415.9018426006069, 561.7618127280075, 2, 1232.5490551777243, 576.6491252457796, 1, 1361.7144723600402, 573.9838455580539, 2, 1067.2796628493224, 755.4118994009032, 2, 1463.3127742212828, 759.7691770832962, 2, 827.8546816426724, 862.0265056675025, 2, 1611.239482607516, 1086.0508866968444, 2, 677.7970362057722, 850.1385792929177, 2, 1663.4635040947978, 1253.3765156947265, 2, 1176.0545882158074, 1234.992186020624, 2, 1387.653347909142, 1239.6036140433807, 2, 1169.9442000180352, 1712.5524005983302, 2, 1417.5247947532825, 1714.871677084694, 2, 1151.3570143184425, 2199.8017036056954, 1, 1467.1406963859151, 2191.334435074447, 1], 'bbox': [535, 409, 1174, 1869], 'area': 2194206, 'category_id': 1, 'id': 10001602900}\n"
     ]
    }
   ],
   "source": [
    "print(data_keypoints['annotations'][0])"
   ]
  },
  {
   "cell_type": "code",
   "execution_count": 31,
   "metadata": {},
   "outputs": [
    {
     "name": "stdout",
     "output_type": "stream",
     "text": [
      "[1, 2, 3, 4, 5]\n"
     ]
    }
   ],
   "source": [
    "random = [5, 10, 15, 20, 25]\n",
    "random =[number//5 for number in random]\n",
    "print(random)"
   ]
  },
  {
   "cell_type": "code",
   "execution_count": 32,
   "metadata": {},
   "outputs": [
    {
     "name": "stdout",
     "output_type": "stream",
     "text": [
      "{'image_name': '000000026031.jpg', 'image_id': 26031, 'segmentation': [], 'num_keypoints': 17, 'iscrowd': 0, 'keypoints': [565.0, 190.0, 2.0, 569.0, 186.0, 2.0, 561.0, 187.0, 2.0, 576.0, 186.0, 2.0, 558.0, 190.0, 1.0, 588.0, 208.0, 2.0, 554.0, 204.0, 2.0, 597.0, 241.0, 2.0, 545.0, 228.0, 2.0, 577.0, 265.0, 2.0, 517.0, 227.0, 2.0, 584.0, 262.0, 2.0, 558.0, 258.0, 1.0, 568.0, 309.0, 2.0, 564.0, 307.0, 1.0, 576.0, 352.0, 2.0, 568.0, 344.0, 1.0], 'bbox': [505, 165, 96, 201], 'area': 19413, 'category_id': 1, 'id': 10001606400}\n"
     ]
    }
   ],
   "source": [
    "for data in data_keypoints['annotations']:\n",
    "    kpts = np.array(data['keypoints'])\n",
    "    kpts = np.reshape(kpts, (17,3))\n",
    "    kpts[:, 0] //= 5\n",
    "    kpts[:, 1] //= 5\n",
    "    kpts[:, 2] //= 1\n",
    "    data['keypoints'] = kpts.reshape((51,)).tolist()\n",
    "    data['bbox'] = [coordinate//5 for coordinate in data['bbox']]\n",
    "    data['area'] //= 25\n",
    "# print(kpts.reshape((51,)).tolist())\n",
    "print(data_keypoints['annotations'][6])"
   ]
  },
  {
   "cell_type": "code",
   "execution_count": 33,
   "metadata": {},
   "outputs": [],
   "source": [
    "f = open(\"Livewire/annotations/vru_keypoints_val_copy.json\", \"w\")\n",
    "json.dump(data_keypoints, f)\n",
    "f.close()"
   ]
  },
  {
   "cell_type": "code",
   "execution_count": null,
   "metadata": {},
   "outputs": [],
   "source": []
  }
 ],
 "metadata": {
  "kernelspec": {
   "display_name": "Python 3",
   "language": "python",
   "name": "python3"
  },
  "language_info": {
   "codemirror_mode": {
    "name": "ipython",
    "version": 3
   },
   "file_extension": ".py",
   "mimetype": "text/x-python",
   "name": "python",
   "nbconvert_exporter": "python",
   "pygments_lexer": "ipython3",
   "version": "3.7.3"
  }
 },
 "nbformat": 4,
 "nbformat_minor": 2
}
